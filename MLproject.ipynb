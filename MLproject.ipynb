{
 "cells": [
  {
   "cell_type": "code",
   "execution_count": 2,
   "metadata": {},
   "outputs": [],
   "source": [
    "import pandas as pd\n",
    "import numpy as np\n",
    "import seaborn as sns\n",
    "import matplotlib.pyplot as plt\n",
    "from sklearn import preprocessing\n",
    "from sklearn.model_selection import train_test_split\n",
    "from sklearn.linear_model import LinearRegression\n",
    "from sklearn.metrics import *"
   ]
  },
  {
   "cell_type": "code",
   "execution_count": 3,
   "metadata": {},
   "outputs": [
    {
     "name": "stdout",
     "output_type": "stream",
     "text": [
      "          Country  Year      Status  Life expectancy   Adult Mortality  \\\n",
      "0     Afghanistan  2015  Developing              65.0            263.0   \n",
      "1     Afghanistan  2014  Developing              59.9            271.0   \n",
      "2     Afghanistan  2013  Developing              59.9            268.0   \n",
      "3     Afghanistan  2012  Developing              59.5            272.0   \n",
      "4     Afghanistan  2011  Developing              59.2            275.0   \n",
      "5     Afghanistan  2010  Developing              58.8            279.0   \n",
      "6     Afghanistan  2009  Developing              58.6            281.0   \n",
      "7     Afghanistan  2008  Developing              58.1            287.0   \n",
      "8     Afghanistan  2007  Developing              57.5            295.0   \n",
      "9     Afghanistan  2006  Developing              57.3            295.0   \n",
      "10    Afghanistan  2005  Developing              57.3            291.0   \n",
      "11    Afghanistan  2004  Developing              57.0            293.0   \n",
      "12    Afghanistan  2003  Developing              56.7            295.0   \n",
      "13    Afghanistan  2002  Developing              56.2              3.0   \n",
      "14    Afghanistan  2001  Developing              55.3            316.0   \n",
      "15    Afghanistan  2000  Developing              54.8            321.0   \n",
      "16        Albania  2015  Developing              77.8             74.0   \n",
      "17        Albania  2014  Developing              77.5              8.0   \n",
      "18        Albania  2013  Developing              77.2             84.0   \n",
      "19        Albania  2012  Developing              76.9             86.0   \n",
      "20        Albania  2011  Developing              76.6             88.0   \n",
      "21        Albania  2010  Developing              76.2             91.0   \n",
      "22        Albania  2009  Developing              76.1             91.0   \n",
      "23        Albania  2008  Developing              75.3              1.0   \n",
      "24        Albania  2007  Developing              75.9              9.0   \n",
      "25        Albania  2006  Developing              74.2             99.0   \n",
      "26        Albania  2005  Developing              73.5             15.0   \n",
      "27        Albania  2004  Developing              73.0             17.0   \n",
      "28        Albania  2003  Developing              72.8             18.0   \n",
      "29        Albania  2002  Developing              73.3             15.0   \n",
      "...           ...   ...         ...               ...              ...   \n",
      "2908       Zambia  2013  Developing              63.0            328.0   \n",
      "2909       Zambia  2012  Developing              59.2            349.0   \n",
      "2910       Zambia  2011  Developing              58.2            366.0   \n",
      "2911       Zambia  2010  Developing              58.0            363.0   \n",
      "2912       Zambia  2009  Developing              57.4            368.0   \n",
      "2913       Zambia  2008  Developing              55.7             45.0   \n",
      "2914       Zambia  2007  Developing              52.6            487.0   \n",
      "2915       Zambia  2006  Developing              58.0            526.0   \n",
      "2916       Zambia  2005  Developing              49.3            554.0   \n",
      "2917       Zambia  2004  Developing              47.9            578.0   \n",
      "2918       Zambia  2003  Developing              46.4             64.0   \n",
      "2919       Zambia  2002  Developing              45.5             69.0   \n",
      "2920       Zambia  2001  Developing              44.6            611.0   \n",
      "2921       Zambia  2000  Developing              43.8            614.0   \n",
      "2922     Zimbabwe  2015  Developing              67.0            336.0   \n",
      "2923     Zimbabwe  2014  Developing              59.2            371.0   \n",
      "2924     Zimbabwe  2013  Developing              58.0            399.0   \n",
      "2925     Zimbabwe  2012  Developing              56.6            429.0   \n",
      "2926     Zimbabwe  2011  Developing              54.9            464.0   \n",
      "2927     Zimbabwe  2010  Developing              52.4            527.0   \n",
      "2928     Zimbabwe  2009  Developing              50.0            587.0   \n",
      "2929     Zimbabwe  2008  Developing              48.2            632.0   \n",
      "2930     Zimbabwe  2007  Developing              46.6             67.0   \n",
      "2931     Zimbabwe  2006  Developing              45.4              7.0   \n",
      "2932     Zimbabwe  2005  Developing              44.6            717.0   \n",
      "2933     Zimbabwe  2004  Developing              44.3            723.0   \n",
      "2934     Zimbabwe  2003  Developing              44.5            715.0   \n",
      "2935     Zimbabwe  2002  Developing              44.8             73.0   \n",
      "2936     Zimbabwe  2001  Developing              45.3            686.0   \n",
      "2937     Zimbabwe  2000  Developing              46.0            665.0   \n",
      "\n",
      "      infant deaths  Alcohol  percentage expenditure  Hepatitis B  Measles   \\\n",
      "0                62     0.01               71.279624         65.0      1154   \n",
      "1                64     0.01               73.523582         62.0       492   \n",
      "2                66     0.01               73.219243         64.0       430   \n",
      "3                69     0.01               78.184215         67.0      2787   \n",
      "4                71     0.01                7.097109         68.0      3013   \n",
      "5                74     0.01               79.679367         66.0      1989   \n",
      "6                77     0.01               56.762217         63.0      2861   \n",
      "7                80     0.03               25.873925         64.0      1599   \n",
      "8                82     0.02               10.910156         63.0      1141   \n",
      "9                84     0.03               17.171518         64.0      1990   \n",
      "10               85     0.02                1.388648         66.0      1296   \n",
      "11               87     0.02               15.296066         67.0       466   \n",
      "12               87     0.01               11.089053         65.0       798   \n",
      "13               88     0.01               16.887351         64.0      2486   \n",
      "14               88     0.01               10.574728         63.0      8762   \n",
      "15               88     0.01               10.424960         62.0      6532   \n",
      "16                0     4.60              364.975229         99.0         0   \n",
      "17                0     4.51              428.749067         98.0         0   \n",
      "18                0     4.76              430.876979         99.0         0   \n",
      "19                0     5.14              412.443356         99.0         9   \n",
      "20                0     5.37              437.062100         99.0        28   \n",
      "21                1     5.28               41.822757         99.0        10   \n",
      "22                1     5.79              348.055952         98.0         0   \n",
      "23                1     5.61               36.622068         99.0         0   \n",
      "24                1     5.58               32.246552         98.0        22   \n",
      "25                1     5.31                3.302154         98.0        68   \n",
      "26                1     5.16               26.993121         98.0         6   \n",
      "27                1     4.54              221.842800         99.0         7   \n",
      "28                1     4.29               14.719289         97.0         8   \n",
      "29                1     3.73              104.516916         96.0        16   \n",
      "...             ...      ...                     ...          ...       ...   \n",
      "2908             29     2.41               20.623063         79.0        35   \n",
      "2909             29     2.59              196.915250         78.0       896   \n",
      "2910             29     2.57              183.046170         81.0     13234   \n",
      "2911             30     2.47              184.364910         83.0     15754   \n",
      "2912             30     2.30              143.869887         94.0        26   \n",
      "2913             31     2.12              153.678375         87.0       140   \n",
      "2914             32     2.08               10.851482          8.0       535   \n",
      "2915             33     2.25                1.860004         81.0       459   \n",
      "2916             34     2.33              121.879331         82.0        45   \n",
      "2917             36     2.46                8.369852          NaN        35   \n",
      "2918             39     2.33               65.789974          NaN       881   \n",
      "2919             41     2.44               54.043480          NaN     25036   \n",
      "2920             43     2.61               46.830275          NaN     16997   \n",
      "2921             44     2.62               45.616880          NaN     30930   \n",
      "2922             22      NaN                0.000000         87.0         0   \n",
      "2923             23     6.50               10.822595         91.0         0   \n",
      "2924             25     6.39               10.666707         95.0         0   \n",
      "2925             26     6.09               92.602336         97.0         0   \n",
      "2926             28     6.00               63.750530         94.0         0   \n",
      "2927             29     5.21               53.308581          9.0      9696   \n",
      "2928             30     4.64                1.040021         73.0       853   \n",
      "2929             30     3.56               20.843429         75.0         0   \n",
      "2930             29     3.88               29.814566         72.0       242   \n",
      "2931             28     4.57               34.262169         68.0       212   \n",
      "2932             28     4.14                8.717409         65.0       420   \n",
      "2933             27     4.36                0.000000         68.0        31   \n",
      "2934             26     4.06                0.000000          7.0       998   \n",
      "2935             25     4.43                0.000000         73.0       304   \n",
      "2936             25     1.72                0.000000         76.0       529   \n",
      "2937             24     1.68                0.000000         79.0      1483   \n",
      "\n",
      "        ...      Polio  Total expenditure  Diphtheria    HIV/AIDS  \\\n",
      "0       ...        6.0               8.16         65.0        0.1   \n",
      "1       ...       58.0               8.18         62.0        0.1   \n",
      "2       ...       62.0               8.13         64.0        0.1   \n",
      "3       ...       67.0               8.52         67.0        0.1   \n",
      "4       ...       68.0               7.87         68.0        0.1   \n",
      "5       ...       66.0               9.20         66.0        0.1   \n",
      "6       ...       63.0               9.42         63.0        0.1   \n",
      "7       ...       64.0               8.33         64.0        0.1   \n",
      "8       ...       63.0               6.73         63.0        0.1   \n",
      "9       ...       58.0               7.43         58.0        0.1   \n",
      "10      ...       58.0               8.70         58.0        0.1   \n",
      "11      ...        5.0               8.79          5.0        0.1   \n",
      "12      ...       41.0               8.82         41.0        0.1   \n",
      "13      ...       36.0               7.76         36.0        0.1   \n",
      "14      ...       35.0               7.80         33.0        0.1   \n",
      "15      ...       24.0               8.20         24.0        0.1   \n",
      "16      ...       99.0               6.00         99.0        0.1   \n",
      "17      ...       98.0               5.88         98.0        0.1   \n",
      "18      ...       99.0               5.66         99.0        0.1   \n",
      "19      ...       99.0               5.59         99.0        0.1   \n",
      "20      ...       99.0               5.71         99.0        0.1   \n",
      "21      ...       99.0               5.34         99.0        0.1   \n",
      "22      ...       98.0               5.79         98.0        0.1   \n",
      "23      ...       99.0               5.87         99.0        0.1   \n",
      "24      ...       99.0               6.10         98.0        0.1   \n",
      "25      ...       97.0               5.86         97.0        0.1   \n",
      "26      ...       97.0               6.12         98.0        0.1   \n",
      "27      ...       98.0               6.38         97.0        0.1   \n",
      "28      ...       97.0               6.27         97.0        0.1   \n",
      "29      ...       98.0               6.30         98.0        0.1   \n",
      "...     ...        ...                ...          ...        ...   \n",
      "2908    ...       74.0               4.99         79.0        4.8   \n",
      "2909    ...        7.0               4.91         78.0        5.6   \n",
      "2910    ...       83.0               4.26         81.0        6.3   \n",
      "2911    ...        8.0               4.41         83.0        6.8   \n",
      "2912    ...       93.0               4.73         94.0        9.1   \n",
      "2913    ...        9.0               4.87         87.0       11.9   \n",
      "2914    ...       77.0               4.37          8.0       13.6   \n",
      "2915    ...       83.0               6.11         81.0       15.9   \n",
      "2916    ...       84.0               7.56         82.0       17.0   \n",
      "2917    ...       84.0               7.33         83.0       17.6   \n",
      "2918    ...       85.0               8.18         83.0       18.2   \n",
      "2919    ...       85.0               6.93         84.0       18.4   \n",
      "2920    ...       86.0               6.56         85.0       18.6   \n",
      "2921    ...       85.0               7.16         85.0       18.7   \n",
      "2922    ...       88.0                NaN         87.0        6.2   \n",
      "2923    ...       92.0               6.44         91.0        6.3   \n",
      "2924    ...       95.0               6.88         95.0        6.8   \n",
      "2925    ...       95.0               6.69         95.0        8.8   \n",
      "2926    ...       93.0               6.31         93.0       13.3   \n",
      "2927    ...       89.0               5.37         89.0       15.7   \n",
      "2928    ...       69.0               6.26         73.0       18.1   \n",
      "2929    ...       75.0               4.96         75.0       20.5   \n",
      "2930    ...       73.0               4.47         73.0       23.7   \n",
      "2931    ...       71.0               5.12          7.0       26.8   \n",
      "2932    ...       69.0               6.44         68.0       30.3   \n",
      "2933    ...       67.0               7.13         65.0       33.6   \n",
      "2934    ...        7.0               6.52         68.0       36.7   \n",
      "2935    ...       73.0               6.53         71.0       39.8   \n",
      "2936    ...       76.0               6.16         75.0       42.1   \n",
      "2937    ...       78.0               7.10         78.0       43.5   \n",
      "\n",
      "              GDP  Population   thinness  1-19 years   thinness 5-9 years  \\\n",
      "0      584.259210  33736494.0                   17.2                 17.3   \n",
      "1      612.696514    327582.0                   17.5                 17.5   \n",
      "2      631.744976  31731688.0                   17.7                 17.7   \n",
      "3      669.959000   3696958.0                   17.9                 18.0   \n",
      "4       63.537231   2978599.0                   18.2                 18.2   \n",
      "5      553.328940   2883167.0                   18.4                 18.4   \n",
      "6      445.893298    284331.0                   18.6                 18.7   \n",
      "7      373.361116   2729431.0                   18.8                 18.9   \n",
      "8      369.835796  26616792.0                   19.0                 19.1   \n",
      "9      272.563770   2589345.0                   19.2                 19.3   \n",
      "10      25.294130    257798.0                   19.3                 19.5   \n",
      "11     219.141353  24118979.0                   19.5                 19.7   \n",
      "12     198.728544   2364851.0                   19.7                 19.9   \n",
      "13     187.845950  21979923.0                   19.9                  2.2   \n",
      "14     117.496980   2966463.0                    2.1                  2.4   \n",
      "15     114.560000    293756.0                    2.3                  2.5   \n",
      "16    3954.227830     28873.0                    1.2                  1.3   \n",
      "17    4575.763787    288914.0                    1.2                  1.3   \n",
      "18    4414.723140    289592.0                    1.3                  1.4   \n",
      "19    4247.614380      2941.0                    1.3                  1.4   \n",
      "20    4437.178680    295195.0                    1.4                  1.5   \n",
      "21     494.358832    291321.0                    1.4                  1.5   \n",
      "22    4114.136545   2927519.0                    1.5                  1.6   \n",
      "23     437.539647   2947314.0                    1.6                  1.6   \n",
      "24     363.136850     29717.0                    1.6                  1.7   \n",
      "25      35.129300   2992547.0                    1.7                  1.8   \n",
      "26     279.142931    311487.0                    1.8                  1.8   \n",
      "27    2416.588235    326939.0                    1.8                  1.9   \n",
      "28     189.681557    339616.0                    1.9                  2.0   \n",
      "29    1453.642777      3511.0                    2.0                  2.1   \n",
      "...           ...         ...                    ...                  ...   \n",
      "2908   185.793359   1515321.0                    6.4                  6.2   \n",
      "2909  1734.936120  14699937.0                    6.5                  6.3   \n",
      "2910  1644.619672  14264756.0                    6.6                  6.4   \n",
      "2911  1463.213573    138533.0                    6.7                  6.5   \n",
      "2912  1139.112330  13456417.0                    6.7                  6.6   \n",
      "2913  1369.682490   1382517.0                    6.8                  6.7   \n",
      "2914   114.587985  12725974.0                    6.9                  6.8   \n",
      "2915    13.154199  12383446.0                    7.0                  6.9   \n",
      "2916   691.317816   1252156.0                    7.1                  7.0   \n",
      "2917    53.277222  11731746.0                    7.2                  7.1   \n",
      "2918   429.158343  11421984.0                    7.3                  7.2   \n",
      "2919   377.135244    111249.0                    7.4                  7.3   \n",
      "2920   378.273624   1824125.0                    7.4                  7.4   \n",
      "2921   341.955625   1531221.0                    7.5                  7.5   \n",
      "2922   118.693830  15777451.0                    5.6                  5.5   \n",
      "2923   127.474620  15411675.0                    5.9                  5.7   \n",
      "2924   111.227396    155456.0                    6.2                  6.0   \n",
      "2925   955.648466   1471826.0                    6.5                  6.4   \n",
      "2926   839.927936  14386649.0                    6.8                  6.7   \n",
      "2927   713.635620   1486317.0                    7.1                  7.0   \n",
      "2928    65.824121   1381599.0                    7.5                  7.4   \n",
      "2929   325.678573  13558469.0                    7.8                  7.8   \n",
      "2930   396.998217   1332999.0                    8.2                  8.2   \n",
      "2931   414.796232  13124267.0                    8.6                  8.6   \n",
      "2932   444.765750    129432.0                    9.0                  9.0   \n",
      "2933   454.366654  12777511.0                    9.4                  9.4   \n",
      "2934   453.351155  12633897.0                    9.8                  9.9   \n",
      "2935    57.348340    125525.0                    1.2                  1.3   \n",
      "2936   548.587312  12366165.0                    1.6                  1.7   \n",
      "2937   547.358879  12222251.0                   11.0                 11.2   \n",
      "\n",
      "      Income composition of resources  Schooling  \n",
      "0                               0.479       10.1  \n",
      "1                               0.476       10.0  \n",
      "2                               0.470        9.9  \n",
      "3                               0.463        9.8  \n",
      "4                               0.454        9.5  \n",
      "5                               0.448        9.2  \n",
      "6                               0.434        8.9  \n",
      "7                               0.433        8.7  \n",
      "8                               0.415        8.4  \n",
      "9                               0.405        8.1  \n",
      "10                              0.396        7.9  \n",
      "11                              0.381        6.8  \n",
      "12                              0.373        6.5  \n",
      "13                              0.341        6.2  \n",
      "14                              0.340        5.9  \n",
      "15                              0.338        5.5  \n",
      "16                              0.762       14.2  \n",
      "17                              0.761       14.2  \n",
      "18                              0.759       14.2  \n",
      "19                              0.752       14.2  \n",
      "20                              0.738       13.3  \n",
      "21                              0.725       12.5  \n",
      "22                              0.721       12.2  \n",
      "23                              0.713       12.0  \n",
      "24                              0.703       11.6  \n",
      "25                              0.696       11.4  \n",
      "26                              0.685       10.8  \n",
      "27                              0.681       10.9  \n",
      "28                              0.674       10.7  \n",
      "29                              0.670       10.7  \n",
      "...                               ...        ...  \n",
      "2908                            0.565       12.5  \n",
      "2909                            0.554       12.3  \n",
      "2910                            0.543       12.0  \n",
      "2911                            0.533       11.8  \n",
      "2912                            0.518       11.6  \n",
      "2913                            0.504       11.4  \n",
      "2914                            0.492       11.1  \n",
      "2915                            0.479       10.9  \n",
      "2916                            0.467       10.7  \n",
      "2917                            0.456       10.5  \n",
      "2918                            0.443       10.2  \n",
      "2919                            0.433       10.0  \n",
      "2920                            0.424        9.8  \n",
      "2921                            0.418        9.6  \n",
      "2922                            0.507       10.3  \n",
      "2923                            0.498       10.3  \n",
      "2924                            0.488       10.4  \n",
      "2925                            0.464        9.8  \n",
      "2926                            0.452       10.1  \n",
      "2927                            0.436       10.0  \n",
      "2928                            0.419        9.9  \n",
      "2929                            0.421        9.7  \n",
      "2930                            0.414        9.6  \n",
      "2931                            0.408        9.5  \n",
      "2932                            0.406        9.3  \n",
      "2933                            0.407        9.2  \n",
      "2934                            0.418        9.5  \n",
      "2935                            0.427       10.0  \n",
      "2936                            0.427        9.8  \n",
      "2937                            0.434        9.8  \n",
      "\n",
      "[2938 rows x 22 columns]\n"
     ]
    }
   ],
   "source": [
    "file_path=r\"C:\\Users\\vamshi\\Desktop\\datasets\\lifeexpectancy\\life_expectancy.csv\"\n",
    "data=pd.read_csv(file_path)\n",
    "print(data)"
   ]
  },
  {
   "cell_type": "code",
   "execution_count": 4,
   "metadata": {},
   "outputs": [
    {
     "name": "stdout",
     "output_type": "stream",
     "text": [
      "(2938, 22)\n"
     ]
    }
   ],
   "source": [
    "print(data.shape)"
   ]
  },
  {
   "cell_type": "code",
   "execution_count": 5,
   "metadata": {},
   "outputs": [
    {
     "name": "stdout",
     "output_type": "stream",
     "text": [
      "Index(['Country', 'Year', 'Status', 'Life expectancy ', 'Adult Mortality',\n",
      "       'infant deaths', 'Alcohol', 'percentage expenditure', 'Hepatitis B',\n",
      "       'Measles ', ' BMI ', 'under-five deaths ', 'Polio', 'Total expenditure',\n",
      "       'Diphtheria ', ' HIV/AIDS', 'GDP', 'Population',\n",
      "       ' thinness  1-19 years', ' thinness 5-9 years',\n",
      "       'Income composition of resources', 'Schooling'],\n",
      "      dtype='object')\n",
      "Index(['Country', 'Year', 'Status', 'Lifeexpectancy', 'AdultMortality',\n",
      "       'infantdeaths', 'Alcohol', 'percentageexpenditure', 'HepatitisB',\n",
      "       'Measles', 'BMI', 'under-fivedeaths', 'Polio', 'Totalexpenditure',\n",
      "       'Diphtheria', 'HIV/AIDS', 'GDP', 'Population', 'thinness1-19years',\n",
      "       'thinness5-9years', 'Incomecompositionofresources', 'Schooling'],\n",
      "      dtype='object')\n"
     ]
    }
   ],
   "source": [
    "print(data.columns)\n",
    "data.columns = data.columns.str.replace(' ', '')\n",
    "print(data.columns)"
   ]
  },
  {
   "cell_type": "code",
   "execution_count": 6,
   "metadata": {},
   "outputs": [
    {
     "name": "stdout",
     "output_type": "stream",
     "text": [
      "       Country  Year      Status  Lifeexpectancy  AdultMortality  \\\n",
      "0  Afghanistan  2015  Developing            65.0           263.0   \n",
      "1  Afghanistan  2014  Developing            59.9           271.0   \n",
      "2  Afghanistan  2013  Developing            59.9           268.0   \n",
      "3  Afghanistan  2012  Developing            59.5           272.0   \n",
      "4  Afghanistan  2011  Developing            59.2           275.0   \n",
      "\n",
      "   infantdeaths  Alcohol  percentageexpenditure  HepatitisB  Measles  \\\n",
      "0            62     0.01              71.279624        65.0     1154   \n",
      "1            64     0.01              73.523582        62.0      492   \n",
      "2            66     0.01              73.219243        64.0      430   \n",
      "3            69     0.01              78.184215        67.0     2787   \n",
      "4            71     0.01               7.097109        68.0     3013   \n",
      "\n",
      "     ...      Polio  Totalexpenditure  Diphtheria  HIV/AIDS         GDP  \\\n",
      "0    ...        6.0              8.16        65.0       0.1  584.259210   \n",
      "1    ...       58.0              8.18        62.0       0.1  612.696514   \n",
      "2    ...       62.0              8.13        64.0       0.1  631.744976   \n",
      "3    ...       67.0              8.52        67.0       0.1  669.959000   \n",
      "4    ...       68.0              7.87        68.0       0.1   63.537231   \n",
      "\n",
      "   Population  thinness1-19years  thinness5-9years  \\\n",
      "0  33736494.0               17.2              17.3   \n",
      "1    327582.0               17.5              17.5   \n",
      "2  31731688.0               17.7              17.7   \n",
      "3   3696958.0               17.9              18.0   \n",
      "4   2978599.0               18.2              18.2   \n",
      "\n",
      "   Incomecompositionofresources  Schooling  \n",
      "0                         0.479       10.1  \n",
      "1                         0.476       10.0  \n",
      "2                         0.470        9.9  \n",
      "3                         0.463        9.8  \n",
      "4                         0.454        9.5  \n",
      "\n",
      "[5 rows x 22 columns]\n"
     ]
    }
   ],
   "source": [
    "print(data.head())"
   ]
  },
  {
   "cell_type": "code",
   "execution_count": 7,
   "metadata": {},
   "outputs": [
    {
     "name": "stdout",
     "output_type": "stream",
     "text": [
      "              Year  Lifeexpectancy  AdultMortality  infantdeaths      Alcohol  \\\n",
      "count  2938.000000     2928.000000     2928.000000   2938.000000  2744.000000   \n",
      "mean   2007.518720       69.224932      164.796448     30.303948     4.602861   \n",
      "std       4.613841        9.523867      124.292079    117.926501     4.052413   \n",
      "min    2000.000000       36.300000        1.000000      0.000000     0.010000   \n",
      "25%    2004.000000       63.100000       74.000000      0.000000     0.877500   \n",
      "50%    2008.000000       72.100000      144.000000      3.000000     3.755000   \n",
      "75%    2012.000000       75.700000      228.000000     22.000000     7.702500   \n",
      "max    2015.000000       89.000000      723.000000   1800.000000    17.870000   \n",
      "\n",
      "       percentageexpenditure   HepatitisB        Measles          BMI  \\\n",
      "count            2938.000000  2385.000000    2938.000000  2904.000000   \n",
      "mean              738.251295    80.940461    2419.592240    38.321247   \n",
      "std              1987.914858    25.070016   11467.272489    20.044034   \n",
      "min                 0.000000     1.000000       0.000000     1.000000   \n",
      "25%                 4.685343    77.000000       0.000000    19.300000   \n",
      "50%                64.912906    92.000000      17.000000    43.500000   \n",
      "75%               441.534144    97.000000     360.250000    56.200000   \n",
      "max             19479.911610    99.000000  212183.000000    87.300000   \n",
      "\n",
      "       under-fivedeaths        Polio  Totalexpenditure   Diphtheria  \\\n",
      "count       2938.000000  2919.000000        2712.00000  2919.000000   \n",
      "mean          42.035739    82.550188           5.93819    82.324084   \n",
      "std          160.445548    23.428046           2.49832    23.716912   \n",
      "min            0.000000     3.000000           0.37000     2.000000   \n",
      "25%            0.000000    78.000000           4.26000    78.000000   \n",
      "50%            4.000000    93.000000           5.75500    93.000000   \n",
      "75%           28.000000    97.000000           7.49250    97.000000   \n",
      "max         2500.000000    99.000000          17.60000    99.000000   \n",
      "\n",
      "          HIV/AIDS            GDP    Population  thinness1-19years  \\\n",
      "count  2938.000000    2490.000000  2.286000e+03        2904.000000   \n",
      "mean      1.742103    7483.158469  1.275338e+07           4.839704   \n",
      "std       5.077785   14270.169342  6.101210e+07           4.420195   \n",
      "min       0.100000       1.681350  3.400000e+01           0.100000   \n",
      "25%       0.100000     463.935626  1.957932e+05           1.600000   \n",
      "50%       0.100000    1766.947595  1.386542e+06           3.300000   \n",
      "75%       0.800000    5910.806335  7.420359e+06           7.200000   \n",
      "max      50.600000  119172.741800  1.293859e+09          27.700000   \n",
      "\n",
      "       thinness5-9years  Incomecompositionofresources    Schooling  \n",
      "count       2904.000000                   2771.000000  2775.000000  \n",
      "mean           4.870317                      0.627551    11.992793  \n",
      "std            4.508882                      0.210904     3.358920  \n",
      "min            0.100000                      0.000000     0.000000  \n",
      "25%            1.500000                      0.493000    10.100000  \n",
      "50%            3.300000                      0.677000    12.300000  \n",
      "75%            7.200000                      0.779000    14.300000  \n",
      "max           28.600000                      0.948000    20.700000  \n"
     ]
    }
   ],
   "source": [
    "print(data.describe())"
   ]
  },
  {
   "cell_type": "code",
   "execution_count": 8,
   "metadata": {},
   "outputs": [
    {
     "name": "stdout",
     "output_type": "stream",
     "text": [
      "Country                           0\n",
      "Year                              0\n",
      "Status                            0\n",
      "Lifeexpectancy                   10\n",
      "AdultMortality                   10\n",
      "infantdeaths                      0\n",
      "Alcohol                         194\n",
      "percentageexpenditure             0\n",
      "HepatitisB                      553\n",
      "Measles                           0\n",
      "BMI                              34\n",
      "under-fivedeaths                  0\n",
      "Polio                            19\n",
      "Totalexpenditure                226\n",
      "Diphtheria                       19\n",
      "HIV/AIDS                          0\n",
      "GDP                             448\n",
      "Population                      652\n",
      "thinness1-19years                34\n",
      "thinness5-9years                 34\n",
      "Incomecompositionofresources    167\n",
      "Schooling                       163\n",
      "dtype: int64\n"
     ]
    }
   ],
   "source": [
    "print(data.isnull().sum())"
   ]
  },
  {
   "cell_type": "code",
   "execution_count": 9,
   "metadata": {},
   "outputs": [],
   "source": [
    "data=data.fillna(method=\"ffill\")\n",
    "data=data.drop(['Country','Year'],axis=1)\n",
    "data['Status'] = data['Status'].replace(['Developing','Developed'],[0, 1])"
   ]
  },
  {
   "cell_type": "code",
   "execution_count": 10,
   "metadata": {},
   "outputs": [
    {
     "data": {
      "text/plain": [
       "<matplotlib.axes._subplots.AxesSubplot at 0x24817fc25c0>"
      ]
     },
     "execution_count": 10,
     "metadata": {},
     "output_type": "execute_result"
    },
    {
     "data": {
      "image/png": "[encoded data removed]",
      "text/plain": [
       "<Figure size 1080x720 with 2 Axes>"
      ]
     },
     "metadata": {},
     "output_type": "display_data"
    }
   ],
   "source": [
    "plt.figure(figsize = (15, 10))\n",
    "sns.heatmap(data.corr())"
   ]
  },
  {
   "cell_type": "code",
   "execution_count": 11,
   "metadata": {},
   "outputs": [
    {
     "name": "stdout",
     "output_type": "stream",
     "text": [
      "Lifeexpectancy                  1.000000\n",
      "Schooling                       0.736323\n",
      "Incomecompositionofresources    0.705641\n",
      "BMI                             0.567361\n",
      "Status                          0.481907\n",
      "Diphtheria                      0.470947\n",
      "Polio                           0.456336\n",
      "GDP                             0.429252\n",
      "percentageexpenditure           0.381847\n",
      "Alcohol                         0.380721\n",
      "HepatitisB                      0.284345\n",
      "Totalexpenditure                0.212256\n",
      "Population                      0.003051\n",
      "Measles                        -0.156446\n",
      "infantdeaths                   -0.195148\n",
      "under-fivedeaths               -0.221021\n",
      "thinness5-9years               -0.480438\n",
      "thinness1-19years              -0.484921\n",
      "HIV/AIDS                       -0.553770\n",
      "AdultMortality                 -0.694702\n",
      "Name: Lifeexpectancy, dtype: float64\n"
     ]
    }
   ],
   "source": [
    "print(data.corr()['Lifeexpectancy'].sort_values()[::-1])"
   ]
  },
  {
   "cell_type": "code",
   "execution_count": 12,
   "metadata": {},
   "outputs": [],
   "source": [
    "useful_data=data.drop(['Population','Measles','infantdeaths','under-fivedeaths','thinness5-9years','thinness1-19years','HIV/AIDS','AdultMortality'],axis=1)\n"
   ]
  },
  {
   "cell_type": "code",
   "execution_count": 13,
   "metadata": {},
   "outputs": [
    {
     "name": "stdout",
     "output_type": "stream",
     "text": [
      "            Status  Lifeexpectancy      Alcohol  percentageexpenditure  \\\n",
      "count  2938.000000     2938.000000  2938.000000            2938.000000   \n",
      "mean      0.174268       69.195643     4.607270             738.251295   \n",
      "std       0.379405        9.536654     4.044785            1987.914858   \n",
      "min       0.000000       36.300000     0.010000               0.000000   \n",
      "25%       0.000000       63.025000     0.880000               4.685343   \n",
      "50%       0.000000       72.000000     3.765000              64.912906   \n",
      "75%       0.000000       75.600000     7.665000             441.534144   \n",
      "max       1.000000       89.000000    17.870000           19479.911610   \n",
      "\n",
      "        HepatitisB          BMI        Polio  Totalexpenditure   Diphtheria  \\\n",
      "count  2938.000000  2938.000000  2938.000000       2938.000000  2938.000000   \n",
      "mean     75.683799    38.020150    82.307692          5.905211    82.075221   \n",
      "std      28.851806    20.175077    23.636677          2.484620    23.917022   \n",
      "min       1.000000     1.000000     3.000000          0.370000     2.000000   \n",
      "25%      66.000000    19.000000    77.000000          4.260000    78.000000   \n",
      "50%      89.000000    43.000000    93.000000          5.710000    93.000000   \n",
      "75%      96.000000    56.100000    97.000000          7.440000    97.000000   \n",
      "max      99.000000    87.300000    99.000000         17.600000    99.000000   \n",
      "\n",
      "                 GDP  Incomecompositionofresources    Schooling  \n",
      "count    2938.000000                   2938.000000  2938.000000  \n",
      "mean     7475.593613                      0.631418    11.935671  \n",
      "std     13728.461983                      0.210920     3.340202  \n",
      "min         1.681350                      0.000000     0.000000  \n",
      "25%       456.766527                      0.494000    10.100000  \n",
      "50%      1680.834893                      0.684000    12.300000  \n",
      "75%      6454.061607                      0.791000    14.100000  \n",
      "max    119172.741800                      0.948000    20.700000  \n"
     ]
    }
   ],
   "source": [
    "print(useful_data.describe())"
   ]
  },
  {
   "cell_type": "code",
   "execution_count": 14,
   "metadata": {},
   "outputs": [],
   "source": [
    "useful_data[['percentageexpenditure','Incomecompositionofresources','Schooling']]=useful_data[['percentageexpenditure','Incomecompositionofresources','Schooling']].replace(0.,method=\"ffill\")"
   ]
  },
  {
   "cell_type": "code",
   "execution_count": 15,
   "metadata": {},
   "outputs": [
    {
     "name": "stdout",
     "output_type": "stream",
     "text": [
      "            Status  Lifeexpectancy      Alcohol  percentageexpenditure  \\\n",
      "count  2938.000000     2938.000000  2938.000000            2938.000000   \n",
      "mean      0.174268       69.195643     4.607270             842.937078   \n",
      "std       0.379405        9.536654     4.044785            2012.731242   \n",
      "min       0.000000       36.300000     0.010000               0.099872   \n",
      "25%       0.000000       63.025000     0.880000              29.299697   \n",
      "50%       0.000000       72.000000     3.765000             140.836502   \n",
      "75%       0.000000       75.600000     7.665000             645.958382   \n",
      "max       1.000000       89.000000    17.870000           19479.911610   \n",
      "\n",
      "        HepatitisB          BMI        Polio  Totalexpenditure   Diphtheria  \\\n",
      "count  2938.000000  2938.000000  2938.000000       2938.000000  2938.000000   \n",
      "mean     75.683799    38.020150    82.307692          5.905211    82.075221   \n",
      "std      28.851806    20.175077    23.636677          2.484620    23.917022   \n",
      "min       1.000000     1.000000     3.000000          0.370000     2.000000   \n",
      "25%      66.000000    19.000000    77.000000          4.260000    78.000000   \n",
      "50%      89.000000    43.000000    93.000000          5.710000    93.000000   \n",
      "75%      96.000000    56.100000    97.000000          7.440000    97.000000   \n",
      "max      99.000000    87.300000    99.000000         17.600000    99.000000   \n",
      "\n",
      "                 GDP  Incomecompositionofresources    Schooling  \n",
      "count    2938.000000                   2938.000000  2938.000000  \n",
      "mean     7475.593613                      0.657802    12.029714  \n",
      "std     13728.461983                      0.163486     3.155226  \n",
      "min         1.681350                      0.253000     2.800000  \n",
      "25%       456.766527                      0.523000    10.200000  \n",
      "50%      1680.834893                      0.690500    12.400000  \n",
      "75%      6454.061607                      0.791000    14.175000  \n",
      "max    119172.741800                      0.948000    20.700000  \n"
     ]
    }
   ],
   "source": [
    "print(useful_data.describe())"
   ]
  },
  {
   "cell_type": "code",
   "execution_count": 16,
   "metadata": {},
   "outputs": [
    {
     "data": {
      "text/plain": [
       "<matplotlib.axes._subplots.AxesSubplot at 0x24818401eb8>"
      ]
     },
     "execution_count": 16,
     "metadata": {},
     "output_type": "execute_result"
    },
    {
     "data": {
      "image/png": "[encoded data removed]",
      "text/plain": [
       "<Figure size 432x288 with 1 Axes>"
      ]
     },
     "metadata": {},
     "output_type": "display_data"
    }
   ],
   "source": [
    "useful_data['GDP'].hist(bins=20)"
   ]
  },
  {
   "cell_type": "code",
   "execution_count": 17,
   "metadata": {},
   "outputs": [
    {
     "data": {
      "text/plain": [
       "<matplotlib.axes._subplots.AxesSubplot at 0x248184259e8>"
      ]
     },
     "execution_count": 17,
     "metadata": {},
     "output_type": "execute_result"
    },
    {
     "data": {
      "image/png": "[encoded data removed]",
      "text/plain": [
       "<Figure size 432x288 with 1 Axes>"
      ]
     },
     "metadata": {},
     "output_type": "display_data"
    }
   ],
   "source": [
    "sns.boxplot(x=useful_data['GDP'])"
   ]
  },
  {
   "cell_type": "code",
   "execution_count": 18,
   "metadata": {},
   "outputs": [
    {
     "name": "stdout",
     "output_type": "stream",
     "text": [
      "Index(['Status', 'Lifeexpectancy', 'Alcohol', 'percentageexpenditure',\n",
      "       'HepatitisB', 'BMI', 'Polio', 'Totalexpenditure', 'Diphtheria', 'GDP',\n",
      "       'Incomecompositionofresources', 'Schooling'],\n",
      "      dtype='object')\n"
     ]
    }
   ],
   "source": [
    "print(useful_data.columns)"
   ]
  },
  {
   "cell_type": "code",
   "execution_count": 19,
   "metadata": {},
   "outputs": [
    {
     "data": {
      "text/plain": [
       "{'whiskers': [<matplotlib.lines.Line2D at 0x2481864e0f0>,\n",
       "  <matplotlib.lines.Line2D at 0x2481864e588>],\n",
       " 'caps': [<matplotlib.lines.Line2D at 0x2481864e9b0>,\n",
       "  <matplotlib.lines.Line2D at 0x2481864edd8>],\n",
       " 'boxes': [<matplotlib.lines.Line2D at 0x24818640f60>],\n",
       " 'medians': [<matplotlib.lines.Line2D at 0x24818655240>],\n",
       " 'fliers': [<matplotlib.lines.Line2D at 0x24818655668>],\n",
       " 'means': []}"
      ]
     },
     "execution_count": 19,
     "metadata": {},
     "output_type": "execute_result"
    },
    {
     "data": {
      "image/png": "[encoded data removed]",
      "text/plain": [
       "<Figure size 1440x720 with 6 Axes>"
      ]
     },
     "metadata": {},
     "output_type": "display_data"
    }
   ],
   "source": [
    "plt.figure(figsize=(20,10))\n",
    "plt.subplot(231)\n",
    "plt.boxplot(useful_data['Status'])\n",
    "plt.subplot(232)\n",
    "plt.boxplot(useful_data['Lifeexpectancy'])\n",
    "plt.subplot(233)\n",
    "plt.boxplot(useful_data['Alcohol'])\n",
    "plt.subplot(234)\n",
    "plt.boxplot(useful_data['percentageexpenditure'])\n",
    "plt.subplot(235)\n",
    "plt.boxplot(useful_data['HepatitisB'])\n",
    "plt.subplot(236)\n",
    "plt.boxplot(useful_data['BMI'])\n"
   ]
  },
  {
   "cell_type": "code",
   "execution_count": 20,
   "metadata": {},
   "outputs": [
    {
     "data": {
      "text/plain": [
       "{'whiskers': [<matplotlib.lines.Line2D at 0x24818afe4e0>,\n",
       "  <matplotlib.lines.Line2D at 0x24818afe978>],\n",
       " 'caps': [<matplotlib.lines.Line2D at 0x24818afeda0>,\n",
       "  <matplotlib.lines.Line2D at 0x24818b09208>],\n",
       " 'boxes': [<matplotlib.lines.Line2D at 0x24818afe390>],\n",
       " 'medians': [<matplotlib.lines.Line2D at 0x24818b09630>],\n",
       " 'fliers': [<matplotlib.lines.Line2D at 0x24818b09a58>],\n",
       " 'means': []}"
      ]
     },
     "execution_count": 20,
     "metadata": {},
     "output_type": "execute_result"
    },
    {
     "data": {
      "image/png": "[encoded data removed]",
      "text/plain": [
       "<Figure size 1440x720 with 6 Axes>"
      ]
     },
     "metadata": {},
     "output_type": "display_data"
    }
   ],
   "source": [
    "plt.figure(figsize=(20,10))\n",
    "plt.subplot(231)\n",
    "plt.boxplot(useful_data['Polio'])\n",
    "plt.subplot(232)\n",
    "plt.boxplot(useful_data['Totalexpenditure'])\n",
    "plt.subplot(233)\n",
    "plt.boxplot(useful_data['Diphtheria'])\n",
    "plt.subplot(234)\n",
    "plt.boxplot(useful_data['GDP'])\n",
    "plt.subplot(235)\n",
    "plt.boxplot(useful_data['Incomecompositionofresources'])\n",
    "plt.subplot(236)\n",
    "plt.boxplot(useful_data['Schooling'])"
   ]
  },
  {
   "cell_type": "code",
   "execution_count": 21,
   "metadata": {},
   "outputs": [
    {
     "name": "stdout",
     "output_type": "stream",
     "text": [
      "Lifeexpectancy                  1.000000\n",
      "Incomecompositionofresources    0.861236\n",
      "Schooling                       0.774300\n",
      "BMI                             0.567361\n",
      "Status                          0.481907\n",
      "Diphtheria                      0.470947\n",
      "Polio                           0.456336\n",
      "GDP                             0.429252\n",
      "percentageexpenditure           0.384820\n",
      "Alcohol                         0.380721\n",
      "HepatitisB                      0.284345\n",
      "Totalexpenditure                0.212256\n",
      "Name: Lifeexpectancy, dtype: float64\n"
     ]
    }
   ],
   "source": [
    "print(useful_data.corr()['Lifeexpectancy'].sort_values()[::-1])"
   ]
  },
  {
   "cell_type": "code",
   "execution_count": 22,
   "metadata": {},
   "outputs": [],
   "source": [
    "useful_data.drop(['Totalexpenditure','Alcohol','HepatitisB','percentageexpenditure','Status'],axis=1,inplace=True)"
   ]
  },
  {
   "cell_type": "code",
   "execution_count": 23,
   "metadata": {},
   "outputs": [
    {
     "name": "stdout",
     "output_type": "stream",
     "text": [
      "(2938, 7)\n"
     ]
    }
   ],
   "source": [
    "print(useful_data.shape)"
   ]
  },
  {
   "cell_type": "code",
   "execution_count": 24,
   "metadata": {},
   "outputs": [
    {
     "name": "stdout",
     "output_type": "stream",
     "text": [
      "Index(['Lifeexpectancy', 'BMI', 'Polio', 'Diphtheria', 'GDP',\n",
      "       'Incomecompositionofresources', 'Schooling'],\n",
      "      dtype='object')\n"
     ]
    }
   ],
   "source": [
    "print(useful_data.columns)\n",
    "useful_data=useful_data[['Lifeexpectancy','BMI', 'Polio', 'Diphtheria', 'GDP',\n",
    "       'Incomecompositionofresources', 'Schooling']].astype(np.float64)"
   ]
  },
  {
   "cell_type": "code",
   "execution_count": 25,
   "metadata": {},
   "outputs": [
    {
     "name": "stdout",
     "output_type": "stream",
     "text": [
      "Lifeexpectancy                  1.000000\n",
      "Incomecompositionofresources    0.861236\n",
      "Schooling                       0.774300\n",
      "BMI                             0.567361\n",
      "Diphtheria                      0.470947\n",
      "Polio                           0.456336\n",
      "GDP                             0.429252\n",
      "Name: Lifeexpectancy, dtype: float64\n"
     ]
    }
   ],
   "source": [
    "print(useful_data.corr()['Lifeexpectancy'].sort_values()[::-1])"
   ]
  },
  {
   "cell_type": "code",
   "execution_count": 26,
   "metadata": {
    "scrolled": true
   },
   "outputs": [
    {
     "data": {
      "text/plain": [
       "<matplotlib.collections.PathCollection at 0x24818bd5518>"
      ]
     },
     "execution_count": 26,
     "metadata": {},
     "output_type": "execute_result"
    },
    {
     "data": {
      "image/png": "[encoded data removed]",
      "text/plain": [
       "<Figure size 432x288 with 1 Axes>"
      ]
     },
     "metadata": {},
     "output_type": "display_data"
    }
   ],
   "source": [
    "plt.scatter(useful_data['Lifeexpectancy'],useful_data['Incomecompositionofresources'])\n"
   ]
  },
  {
   "cell_type": "code",
   "execution_count": 27,
   "metadata": {},
   "outputs": [
    {
     "data": {
      "image/png": "[encoded data removed]",
      "text/plain": [
       "<Figure size 432x288 with 1 Axes>"
      ]
     },
     "metadata": {},
     "output_type": "display_data"
    }
   ],
   "source": [
    "plt.scatter(useful_data['Lifeexpectancy'],useful_data['Schooling'])\n",
    "plt.xlabel('Lifeexpectancy')\n",
    "plt.ylabel('Schooling')\n",
    "plt.show()"
   ]
  },
  {
   "cell_type": "code",
   "execution_count": 28,
   "metadata": {},
   "outputs": [
    {
     "data": {
      "text/plain": [
       "<matplotlib.collections.PathCollection at 0x24817fbd7b8>"
      ]
     },
     "execution_count": 28,
     "metadata": {},
     "output_type": "execute_result"
    },
    {
     "data": {
      "image/png": "[encoded data removed]",
      "text/plain": [
       "<Figure size 432x288 with 1 Axes>"
      ]
     },
     "metadata": {},
     "output_type": "display_data"
    }
   ],
   "source": [
    "plt.scatter(useful_data['Lifeexpectancy'],useful_data['BMI'])"
   ]
  },
  {
   "cell_type": "code",
   "execution_count": 29,
   "metadata": {},
   "outputs": [
    {
     "data": {
      "text/plain": [
       "<matplotlib.collections.PathCollection at 0x24818bf44a8>"
      ]
     },
     "execution_count": 29,
     "metadata": {},
     "output_type": "execute_result"
    },
    {
     "data": {
      "image/png": "[encoded data removed]",
      "text/plain": [
       "<Figure size 432x288 with 1 Axes>"
      ]
     },
     "metadata": {},
     "output_type": "display_data"
    }
   ],
   "source": [
    "plt.scatter(useful_data['Lifeexpectancy'],useful_data['Diphtheria'])"
   ]
  },
  {
   "cell_type": "code",
   "execution_count": 30,
   "metadata": {},
   "outputs": [
    {
     "data": {
      "text/plain": [
       "<matplotlib.collections.PathCollection at 0x24818cd95c0>"
      ]
     },
     "execution_count": 30,
     "metadata": {},
     "output_type": "execute_result"
    },
    {
     "data": {
      "image/png": "[encoded data removed]",
      "text/plain": [
       "<Figure size 432x288 with 1 Axes>"
      ]
     },
     "metadata": {},
     "output_type": "display_data"
    }
   ],
   "source": [
    "plt.scatter(useful_data['Lifeexpectancy'],useful_data['Polio'])"
   ]
  },
  {
   "cell_type": "code",
   "execution_count": 31,
   "metadata": {},
   "outputs": [
    {
     "data": {
      "text/plain": [
       "<matplotlib.collections.PathCollection at 0x24818d327b8>"
      ]
     },
     "execution_count": 31,
     "metadata": {},
     "output_type": "execute_result"
    },
    {
     "data": {
      "image/png": "[encoded data removed]",
      "text/plain": [
       "<Figure size 432x288 with 1 Axes>"
      ]
     },
     "metadata": {},
     "output_type": "display_data"
    }
   ],
   "source": [
    "plt.scatter(useful_data['Lifeexpectancy'],useful_data['GDP'])"
   ]
  },
  {
   "cell_type": "code",
   "execution_count": 32,
   "metadata": {},
   "outputs": [
    {
     "data": {
      "text/plain": [
       "{'whiskers': [<matplotlib.lines.Line2D at 0x248191a6470>,\n",
       "  <matplotlib.lines.Line2D at 0x248191a6908>],\n",
       " 'caps': [<matplotlib.lines.Line2D at 0x248191a6d30>,\n",
       "  <matplotlib.lines.Line2D at 0x248191af198>],\n",
       " 'boxes': [<matplotlib.lines.Line2D at 0x248191a6320>],\n",
       " 'medians': [<matplotlib.lines.Line2D at 0x248191af5c0>],\n",
       " 'fliers': [<matplotlib.lines.Line2D at 0x248191af9e8>],\n",
       " 'means': []}"
      ]
     },
     "execution_count": 32,
     "metadata": {},
     "output_type": "execute_result"
    },
    {
     "data": {
      "image/png": "[encoded data removed]",
      "text/plain": [
       "<Figure size 1440x720 with 6 Axes>"
      ]
     },
     "metadata": {},
     "output_type": "display_data"
    }
   ],
   "source": [
    "plt.figure(figsize=(20,10))\n",
    "plt.subplot(231)\n",
    "plt.boxplot(useful_data['GDP'])\n",
    "plt.subplot(232)\n",
    "plt.boxplot(useful_data['Incomecompositionofresources'])\n",
    "plt.subplot(233)\n",
    "plt.boxplot(useful_data['Schooling'])\n",
    "plt.subplot(234)\n",
    "plt.boxplot(useful_data['BMI'])\n",
    "plt.subplot(235)\n",
    "plt.boxplot(useful_data['Diphtheria'])\n",
    "plt.subplot(236)\n",
    "plt.boxplot(useful_data['Polio'])\n"
   ]
  },
  {
   "cell_type": "code",
   "execution_count": 33,
   "metadata": {},
   "outputs": [
    {
     "name": "stdout",
     "output_type": "stream",
     "text": [
      "(2483, 7)\n"
     ]
    }
   ],
   "source": [
    "use_data=useful_data[useful_data.Schooling>useful_data.Schooling.quantile(0.15)]\n",
    "use_data=useful_data[useful_data.Schooling<useful_data.Schooling.quantile(0.85)]\n",
    "\n",
    "print(use_data.shape)"
   ]
  },
  {
   "cell_type": "code",
   "execution_count": 34,
   "metadata": {},
   "outputs": [
    {
     "data": {
      "text/plain": [
       "{'whiskers': [<matplotlib.lines.Line2D at 0x24819270c50>,\n",
       "  <matplotlib.lines.Line2D at 0x2481927b128>],\n",
       " 'caps': [<matplotlib.lines.Line2D at 0x2481927b550>,\n",
       "  <matplotlib.lines.Line2D at 0x2481927b978>],\n",
       " 'boxes': [<matplotlib.lines.Line2D at 0x24819270b00>],\n",
       " 'medians': [<matplotlib.lines.Line2D at 0x2481927bda0>],\n",
       " 'fliers': [<matplotlib.lines.Line2D at 0x24819281208>],\n",
       " 'means': []}"
      ]
     },
     "execution_count": 34,
     "metadata": {},
     "output_type": "execute_result"
    },
    {
     "data": {
      "image/png": "[encoded data removed]",
      "text/plain": [
       "<Figure size 432x288 with 1 Axes>"
      ]
     },
     "metadata": {},
     "output_type": "display_data"
    }
   ],
   "source": [
    "plt.boxplot(use_data['Schooling'])"
   ]
  },
  {
   "cell_type": "code",
   "execution_count": 35,
   "metadata": {},
   "outputs": [
    {
     "name": "stdout",
     "output_type": "stream",
     "text": [
      "[[5.55125725e-01 2.09733488e-01 3.12500000e-02 ... 4.88858501e-03\n",
      "  3.43465046e-01 5.88709677e-01]\n",
      " [4.56479691e-01 2.03939745e-01 5.72916667e-01 ... 5.12721093e-03\n",
      "  3.38905775e-01 5.80645161e-01]\n",
      " [4.56479691e-01 1.98146002e-01 6.14583333e-01 ... 5.28705227e-03\n",
      "  3.29787234e-01 5.72580645e-01]\n",
      " ...\n",
      " [1.64410058e-01 2.93163384e-01 7.29166667e-01 ... 4.67118357e-04\n",
      "  2.64437690e-01 5.80645161e-01]\n",
      " [1.74081238e-01 2.88528389e-01 7.60416667e-01 ... 4.58925145e-03\n",
      "  2.64437690e-01 5.64516129e-01]\n",
      " [1.87620890e-01 2.83893395e-01 7.81250000e-01 ... 4.57894330e-03\n",
      "  2.75075988e-01 5.64516129e-01]]\n",
      "   Lifeexpectancy       BMI     Polio  Diphtheria       GDP  \\\n",
      "0        0.555126  0.209733  0.031250    0.649485  0.004889   \n",
      "1        0.456480  0.203940  0.572917    0.618557  0.005127   \n",
      "2        0.456480  0.198146  0.614583    0.639175  0.005287   \n",
      "3        0.448743  0.192352  0.666667    0.670103  0.005608   \n",
      "4        0.442940  0.187717  0.677083    0.680412  0.000519   \n",
      "\n",
      "   Incomecompositionofresources  Schooling  \n",
      "0                      0.343465   0.588710  \n",
      "1                      0.338906   0.580645  \n",
      "2                      0.329787   0.572581  \n",
      "3                      0.319149   0.564516  \n",
      "4                      0.305471   0.540323  \n"
     ]
    }
   ],
   "source": [
    "predictor=['BMI', 'Polio', 'Diphtheria', 'GDP',\n",
    "       'Incomecompositionofresources', 'Schooling']\n",
    "target=[\"Lifeexpectancy\"]\n",
    "max1=use_data[target].max()\n",
    "min1=use_data[target].min()\n",
    "\n",
    "min_max_scaler = preprocessing.MinMaxScaler()\n",
    "normalized_train = min_max_scaler.fit_transform(use_data)\n",
    "print(normalized_train)\n",
    "\n",
    "use_data=pd.DataFrame(normalized_train,columns=['Lifeexpectancy', 'BMI', 'Polio', 'Diphtheria', 'GDP',\n",
    "      'Incomecompositionofresources', 'Schooling'])\n",
    "print(use_data.head())\n",
    "train,test=train_test_split(use_data,test_size=0.3,shuffle=False)\n",
    "\n"
   ]
  },
  {
   "cell_type": "code",
   "execution_count": 36,
   "metadata": {},
   "outputs": [
    {
     "name": "stdout",
     "output_type": "stream",
     "text": [
      "Index(['Lifeexpectancy', 'BMI', 'Polio', 'Diphtheria', 'GDP',\n",
      "       'Incomecompositionofresources', 'Schooling'],\n",
      "      dtype='object')\n",
      "Lifeexpectancy    88.0\n",
      "dtype: float64 Lifeexpectancy    36.3\n",
      "dtype: float64\n"
     ]
    }
   ],
   "source": [
    "print(use_data.columns)\n",
    "print(max1,min1)"
   ]
  },
  {
   "cell_type": "code",
   "execution_count": 37,
   "metadata": {},
   "outputs": [
    {
     "name": "stdout",
     "output_type": "stream",
     "text": [
      "(1738, 6)\n",
      "(1738, 1)\n",
      "(745, 6)\n",
      "(745, 1)\n",
      "Index(['BMI', 'Polio', 'Diphtheria', 'GDP', 'Incomecompositionofresources',\n",
      "       'Schooling'],\n",
      "      dtype='object')\n",
      "Index(['BMI', 'Polio', 'Diphtheria', 'GDP', 'Incomecompositionofresources',\n",
      "       'Schooling'],\n",
      "      dtype='object')\n"
     ]
    }
   ],
   "source": [
    "x_train=train[predictor]\n",
    "y_train=train[target]\n",
    "x_test=test[predictor]\n",
    "y_test=test[target]\n",
    "print(x_train.shape)\n",
    "print(y_train.shape)\n",
    "print(x_test.shape)\n",
    "print(y_test.shape)\n",
    "print(x_train.columns)\n",
    "print(x_test.columns)"
   ]
  },
  {
   "cell_type": "code",
   "execution_count": 38,
   "metadata": {},
   "outputs": [
    {
     "name": "stdout",
     "output_type": "stream",
     "text": [
      "[[76.795891  ]\n",
      " [76.78109856]\n",
      " [76.657156  ]\n",
      " [74.22143976]\n",
      " [76.76148639]\n",
      " [76.08790744]\n",
      " [75.80512807]\n",
      " [75.11444424]\n",
      " [74.87443722]\n",
      " [74.53511307]\n",
      " [74.19162283]\n",
      " [73.83715391]\n",
      " [73.74087837]\n",
      " [73.63447207]\n",
      " [73.46567295]\n",
      " [74.88844884]\n",
      " [76.63648022]\n",
      " [76.51384233]\n",
      " [76.29654652]\n",
      " [76.09249531]\n",
      " [76.0671518 ]\n",
      " [75.85639901]\n",
      " [75.42171463]\n",
      " [75.4328404 ]\n",
      " [75.06801218]\n",
      " [74.62789805]\n",
      " [74.4335986 ]\n",
      " [74.05889084]\n",
      " [74.01776575]\n",
      " [73.8298507 ]\n",
      " [73.39473193]\n",
      " [61.96870347]\n",
      " [61.01815498]\n",
      " [60.81662634]\n",
      " [61.09781006]\n",
      " [60.5770044 ]\n",
      " [60.1445309 ]\n",
      " [59.6660711 ]\n",
      " [59.13103235]\n",
      " [58.5470119 ]\n",
      " [58.00073737]\n",
      " [57.17458384]\n",
      " [56.22709552]\n",
      " [56.31579368]\n",
      " [55.18263193]\n",
      " [54.01673932]\n",
      " [49.46168303]\n",
      " [73.04071979]\n",
      " [74.21728682]\n",
      " [73.57401317]\n",
      " [74.1069763 ]\n",
      " [74.12198745]\n",
      " [74.10323121]\n",
      " [73.54700765]\n",
      " [73.08936745]\n",
      " [72.81120945]\n",
      " [72.70481726]\n",
      " [70.03613934]\n",
      " [71.77961421]\n",
      " [71.31510915]\n",
      " [66.79334761]\n",
      " [69.46006318]\n",
      " [71.4798252 ]\n",
      " [65.85804458]\n",
      " [73.52844807]\n",
      " [73.49146695]\n",
      " [73.25174094]\n",
      " [72.9503695 ]\n",
      " [71.2017955 ]\n",
      " [72.95730612]\n",
      " [72.82174166]\n",
      " [72.532755  ]\n",
      " [72.39719054]\n",
      " [72.00592243]\n",
      " [71.7746796 ]\n",
      " [71.67839852]\n",
      " [71.38629961]\n",
      " [71.14689755]\n",
      " [70.95493811]\n",
      " [69.58689868]\n",
      " [71.48363182]\n",
      " [71.23714194]\n",
      " [71.40534412]\n",
      " [71.12866695]\n",
      " [70.53690543]\n",
      " [70.57452725]\n",
      " [69.94938875]\n",
      " [68.61466176]\n",
      " [67.35839832]\n",
      " [66.35695958]\n",
      " [68.97719086]\n",
      " [68.86864539]\n",
      " [70.52941735]\n",
      " [70.41959738]\n",
      " [69.962895  ]\n",
      " [70.28023665]\n",
      " [67.24399287]\n",
      " [64.62250017]\n",
      " [64.42209278]\n",
      " [65.41415808]\n",
      " [65.17079864]\n",
      " [64.88256562]\n",
      " [64.73195006]\n",
      " [64.53428119]\n",
      " [64.27304644]\n",
      " [63.98773514]\n",
      " [63.69963392]\n",
      " [63.44628232]\n",
      " [63.20596175]\n",
      " [62.83917629]\n",
      " [62.60058716]\n",
      " [61.92636936]\n",
      " [60.83594039]\n",
      " [77.77650992]\n",
      " [78.29320545]\n",
      " [77.84712803]\n",
      " [76.88874635]\n",
      " [77.38962871]\n",
      " [77.10663797]\n",
      " [76.11101985]\n",
      " [73.92175555]\n",
      " [73.69648326]\n",
      " [75.44986276]\n",
      " [75.10537609]\n",
      " [75.05619472]\n",
      " [75.04285586]\n",
      " [74.72323582]\n",
      " [62.04479401]\n",
      " [61.81356665]\n",
      " [61.71586675]\n",
      " [61.2397584 ]\n",
      " [61.10862997]\n",
      " [60.63515646]\n",
      " [60.34868118]\n",
      " [59.53961305]\n",
      " [59.51438294]\n",
      " [59.81886894]\n",
      " [59.22130114]\n",
      " [59.12863697]\n",
      " [58.07032516]\n",
      " [53.94640264]\n",
      " [55.9949133 ]\n",
      " [55.92615215]\n",
      " [73.66208303]\n",
      " [75.5500372 ]\n",
      " [75.2799659 ]\n",
      " [75.14439324]\n",
      " [74.99686821]\n",
      " [74.67633582]\n",
      " [74.84106993]\n",
      " [74.78601926]\n",
      " [74.21296502]\n",
      " [74.00518696]\n",
      " [73.9686645 ]\n",
      " [72.94797711]\n",
      " [72.74684043]\n",
      " [73.00921391]\n",
      " [72.63250162]\n",
      " [72.50185015]\n",
      " [75.53273015]\n",
      " [75.28649343]\n",
      " [74.33472253]\n",
      " [74.05398871]\n",
      " [73.65202559]\n",
      " [73.90681289]\n",
      " [73.78624262]\n",
      " [73.39587485]\n",
      " [73.07897792]\n",
      " [72.20330468]\n",
      " [71.8595044 ]\n",
      " [72.87954003]\n",
      " [72.59127879]\n",
      " [72.52497843]\n",
      " [72.40394771]\n",
      " [72.45858597]\n",
      " [58.81005423]\n",
      " [58.37115411]\n",
      " [58.32569013]\n",
      " [57.71137027]\n",
      " [57.20954396]\n",
      " [56.70933774]\n",
      " [56.19060689]\n",
      " [54.79715063]\n",
      " [53.53454937]\n",
      " [53.83555975]\n",
      " [53.62614373]\n",
      " [53.26475772]\n",
      " [53.24145158]\n",
      " [51.36228481]\n",
      " [50.3386852 ]\n",
      " [50.34072518]\n",
      " [79.50629619]\n",
      " [78.95659269]\n",
      " [79.2426505 ]\n",
      " [78.93122905]\n",
      " [77.63131205]\n",
      " [76.06205107]\n",
      " [75.96948108]\n",
      " [77.78063294]\n",
      " [77.02239671]\n",
      " [77.6613981 ]\n",
      " [77.11327021]\n",
      " [76.73232598]\n",
      " [78.14118176]\n",
      " [78.07439705]\n",
      " [78.00819819]\n",
      " [77.89241473]\n",
      " [77.55968357]\n",
      " [77.17950979]\n",
      " [77.10462426]\n",
      " [76.77773319]\n",
      " [76.34175029]\n",
      " [75.96216236]\n",
      " [75.62846092]\n",
      " [75.30001372]\n",
      " [75.11818212]\n",
      " [74.83931952]\n",
      " [74.82763554]\n",
      " [73.18835858]\n",
      " [77.676655  ]\n",
      " [77.35331444]\n",
      " [62.98250193]\n",
      " [64.01923012]\n",
      " [64.23220055]\n",
      " [64.25213341]\n",
      " [63.81755749]\n",
      " [58.78938815]\n",
      " [63.29048347]\n",
      " [62.90595822]\n",
      " [58.36462042]\n",
      " [62.80247374]\n",
      " [61.45147103]\n",
      " [57.49059778]\n",
      " [59.81393658]\n",
      " [60.74435612]\n",
      " [61.23399204]\n",
      " [61.70644936]\n",
      " [58.5816329 ]\n",
      " [58.56347235]\n",
      " [58.55842115]\n",
      " [58.5436287 ]\n",
      " [58.4857305 ]\n",
      " [58.68302131]\n",
      " [58.45101562]\n",
      " [57.60115053]\n",
      " [55.48913598]\n",
      " [56.78684824]\n",
      " [57.9761625 ]\n",
      " [56.04689323]\n",
      " [56.09192819]\n",
      " [56.07713574]\n",
      " [57.79733791]\n",
      " [57.80977181]\n",
      " [69.18276328]\n",
      " [67.32721981]\n",
      " [68.39810052]\n",
      " [67.45641342]\n",
      " [67.60236132]\n",
      " [67.1104913 ]\n",
      " [66.95777757]\n",
      " [66.75183989]\n",
      " [66.68177127]\n",
      " [66.52037664]\n",
      " [66.3160793 ]\n",
      " [66.13375593]\n",
      " [65.53528766]\n",
      " [62.62941847]\n",
      " [65.50591819]\n",
      " [65.97429957]\n",
      " [56.60016846]\n",
      " [57.03048845]\n",
      " [56.87735063]\n",
      " [58.1317734 ]\n",
      " [58.79119435]\n",
      " [58.74092514]\n",
      " [58.75171911]\n",
      " [58.73669853]\n",
      " [58.73669853]\n",
      " [58.73669853]\n",
      " [58.73669853]\n",
      " [58.73669853]\n",
      " [58.73669853]\n",
      " [58.73669853]\n",
      " [58.73669853]\n",
      " [58.73669853]\n",
      " [74.23118115]\n",
      " [74.12637441]\n",
      " [74.04330804]\n",
      " [73.81223728]\n",
      " [72.86388527]\n",
      " [73.10466332]\n",
      " [72.90229415]\n",
      " [72.77988447]\n",
      " [72.44998321]\n",
      " [72.12281046]\n",
      " [71.95962836]\n",
      " [71.55246295]\n",
      " [71.25771207]\n",
      " [71.34228737]\n",
      " [70.70983826]\n",
      " [70.33912461]\n",
      " [62.83350378]\n",
      " [62.7521377 ]\n",
      " [62.44152249]\n",
      " [61.97173494]\n",
      " [61.68489202]\n",
      " [56.56401745]\n",
      " [60.72411324]\n",
      " [60.64833205]\n",
      " [60.28771704]\n",
      " [59.5177573 ]\n",
      " [59.22393365]\n",
      " [58.77798018]\n",
      " [58.22477065]\n",
      " [54.15118006]\n",
      " [57.53751772]\n",
      " [57.09267575]\n",
      " [73.29087598]\n",
      " [72.95118462]\n",
      " [72.83460231]\n",
      " [72.13421149]\n",
      " [72.1534864 ]\n",
      " [72.89212295]\n",
      " [71.96889655]\n",
      " [71.6979893 ]\n",
      " [71.39325919]\n",
      " [71.34591377]\n",
      " [70.94799931]\n",
      " [69.59233808]\n",
      " [70.7232719 ]\n",
      " [70.4702934 ]\n",
      " [70.14104064]\n",
      " [69.81933176]\n",
      " [59.59684878]\n",
      " [64.38062114]\n",
      " [64.25127356]\n",
      " [62.81909972]\n",
      " [62.17833541]\n",
      " [63.15463624]\n",
      " [62.98276185]\n",
      " [62.72035383]\n",
      " [62.47901206]\n",
      " [62.36459826]\n",
      " [62.04027358]\n",
      " [62.03330426]\n",
      " [62.25323907]\n",
      " [62.60188098]\n",
      " [62.68495855]\n",
      " [63.12473759]\n",
      " [79.67568101]\n",
      " [79.49407245]\n",
      " [79.33402863]\n",
      " [80.81679468]\n",
      " [79.4242904 ]\n",
      " [79.40505625]\n",
      " [77.33805746]\n",
      " [62.21829625]\n",
      " [63.73606047]\n",
      " [64.35818804]\n",
      " [65.57849708]\n",
      " [66.99307166]\n",
      " [64.44388034]\n",
      " [64.25503317]\n",
      " [66.57466913]\n",
      " [65.49176794]\n",
      " [65.04436975]\n",
      " [64.60244209]\n",
      " [67.98439326]\n",
      " [67.61378036]\n",
      " [67.54352983]\n",
      " [67.08295216]\n",
      " [67.18490248]\n",
      " [67.69656252]\n",
      " [68.91346711]\n",
      " [68.64510172]\n",
      " [68.31356062]\n",
      " [68.14548158]\n",
      " [67.69100815]\n",
      " [67.55183956]\n",
      " [66.82754246]\n",
      " [66.43620268]\n",
      " [65.93516931]\n",
      " [65.66738558]\n",
      " [65.37549121]\n",
      " [64.98376092]\n",
      " [64.62163104]\n",
      " [64.24982532]\n",
      " [63.88466561]\n",
      " [73.40558076]\n",
      " [73.30545464]\n",
      " [73.05188737]\n",
      " [71.76617064]\n",
      " [72.47543496]\n",
      " [72.25204646]\n",
      " [71.87325887]\n",
      " [71.56929097]\n",
      " [71.11621088]\n",
      " [71.0003977 ]\n",
      " [70.97443999]\n",
      " [70.59010043]\n",
      " [69.54623348]\n",
      " [69.17082663]\n",
      " [69.48859171]\n",
      " [69.27191197]\n",
      " [72.89041369]\n",
      " [74.95109275]\n",
      " [74.99929824]\n",
      " [74.70895908]\n",
      " [74.53522831]\n",
      " [74.24709697]\n",
      " [74.18615236]\n",
      " [73.69306609]\n",
      " [73.41887188]\n",
      " [73.00985357]\n",
      " [73.34345498]\n",
      " [73.14918034]\n",
      " [73.2472361 ]\n",
      " [73.23555213]\n",
      " [72.96440069]\n",
      " [73.24161092]\n",
      " [65.23393544]\n",
      " [65.73953647]\n",
      " [66.4773992 ]\n",
      " [66.38386384]\n",
      " [64.87888349]\n",
      " [64.78750858]\n",
      " [64.96566799]\n",
      " [63.84364423]\n",
      " [58.44171288]\n",
      " [60.39170344]\n",
      " [59.1304275 ]\n",
      " [59.028592  ]\n",
      " [59.14718   ]\n",
      " [58.47128983]\n",
      " [58.20420845]\n",
      " [58.17613947]\n",
      " [60.39817554]\n",
      " [59.86002501]\n",
      " [59.39749155]\n",
      " [59.07272799]\n",
      " [59.00035359]\n",
      " [58.70000769]\n",
      " [57.5566479 ]\n",
      " [57.41704224]\n",
      " [58.42059279]\n",
      " [58.42484168]\n",
      " [57.77853176]\n",
      " [57.50259438]\n",
      " [57.40051282]\n",
      " [56.70042131]\n",
      " [53.82141067]\n",
      " [57.01128001]\n",
      " [72.03434598]\n",
      " [68.57528691]\n",
      " [72.59353841]\n",
      " [72.31362645]\n",
      " [72.33879981]\n",
      " [71.94832584]\n",
      " [71.91900792]\n",
      " [71.63902991]\n",
      " [69.35305829]\n",
      " [69.18543615]\n",
      " [70.95751866]\n",
      " [67.20453079]\n",
      " [67.18436053]\n",
      " [70.92658007]\n",
      " [71.09615101]\n",
      " [71.08780791]\n",
      " [75.79635225]\n",
      " [75.46058796]\n",
      " [75.79777651]\n",
      " [75.11521363]\n",
      " [71.40389503]\n",
      " [70.77968947]\n",
      " [70.79190103]\n",
      " [69.0122348 ]\n",
      " [74.29168348]\n",
      " [74.61003395]\n",
      " [74.08060575]\n",
      " [74.0229985 ]\n",
      " [73.52771774]\n",
      " [73.44262363]\n",
      " [72.63215823]\n",
      " [67.66778536]\n",
      " [73.17554219]\n",
      " [71.02478814]\n",
      " [72.88882436]\n",
      " [72.69042517]\n",
      " [72.60880063]\n",
      " [72.55998711]\n",
      " [72.24712707]\n",
      " [72.14192129]\n",
      " [71.62423437]\n",
      " [71.41196733]\n",
      " [71.16719484]\n",
      " [70.71809478]\n",
      " [68.66017742]\n",
      " [70.20941096]\n",
      " [69.99285045]\n",
      " [69.6445546 ]\n",
      " [75.51038826]\n",
      " [74.79702814]\n",
      " [74.66589352]\n",
      " [74.83412246]\n",
      " [74.01492491]\n",
      " [73.60407975]\n",
      " [73.48245688]\n",
      " [71.27487636]\n",
      " [72.89981117]\n",
      " [67.35742167]\n",
      " [66.77962368]\n",
      " [71.20611003]\n",
      " [69.68528876]\n",
      " [70.0920276 ]\n",
      " [70.50344694]\n",
      " [69.83559524]\n",
      " [72.76921057]\n",
      " [72.3648862 ]\n",
      " [72.38407671]\n",
      " [71.7790429 ]\n",
      " [71.46775877]\n",
      " [71.42228265]\n",
      " [71.59434324]\n",
      " [71.56317368]\n",
      " [71.71988394]\n",
      " [71.61741778]\n",
      " [70.44452438]\n",
      " [70.25936187]\n",
      " [70.61456142]\n",
      " [71.6696548 ]\n",
      " [71.46139043]\n",
      " [71.57723445]\n",
      " [67.74622853]\n",
      " [60.80371181]\n",
      " [60.53229848]\n",
      " [60.26016112]\n",
      " [60.19476301]\n",
      " [60.04356244]\n",
      " [55.78069313]\n",
      " [59.11099644]\n",
      " [58.15826389]\n",
      " [57.42851018]\n",
      " [56.74232239]\n",
      " [56.30710098]\n",
      " [55.73478458]\n",
      " [55.14896228]\n",
      " [54.57153601]\n",
      " [54.1299893 ]\n",
      " [53.7320798 ]\n",
      " [67.82901726]\n",
      " [70.69425289]\n",
      " [72.34231009]\n",
      " [68.28695687]\n",
      " [70.49596051]\n",
      " [71.92265054]\n",
      " [68.4828762 ]\n",
      " [73.05401472]\n",
      " [72.74254549]\n",
      " [72.17548843]\n",
      " [71.9598554 ]\n",
      " [71.57173799]\n",
      " [71.4293727 ]\n",
      " [71.28302075]\n",
      " [70.99756438]\n",
      " [79.76680936]\n",
      " [78.02461982]\n",
      " [77.19980389]\n",
      " [77.48258951]\n",
      " [78.63126589]\n",
      " [78.65878182]\n",
      " [78.89157003]\n",
      " [77.23662245]\n",
      " [77.30546233]\n",
      " [77.23841226]\n",
      " [77.32391662]\n",
      " [77.30115148]\n",
      " [78.27926336]\n",
      " [77.07750913]\n",
      " [77.85592235]\n",
      " [77.55621232]\n",
      " [78.13813109]\n",
      " [78.05611502]\n",
      " [78.03392635]\n",
      " [78.01173767]\n",
      " [77.989549  ]\n",
      " [77.90753293]\n",
      " [77.82921497]\n",
      " [77.7471989 ]\n",
      " [77.72501023]\n",
      " [77.70282156]\n",
      " [75.62382517]\n",
      " [75.6614639 ]\n",
      " [77.57642815]\n",
      " [77.55054137]\n",
      " [77.5283527 ]\n",
      " [77.50246592]\n",
      " [76.66138091]\n",
      " [76.59297801]\n",
      " [76.20812682]\n",
      " [75.68081892]\n",
      " [71.79562291]\n",
      " [75.49632046]\n",
      " [75.1188655 ]\n",
      " [75.82216434]\n",
      " [75.63780475]\n",
      " [71.71619365]\n",
      " [71.6977031 ]\n",
      " [76.26992706]\n",
      " [76.26504968]\n",
      " [75.89129283]\n",
      " [75.59348751]\n",
      " [75.14772196]\n",
      " [78.17563386]\n",
      " [78.15714331]\n",
      " [78.08563193]\n",
      " [78.06344326]\n",
      " [78.15780092]\n",
      " [78.07578485]\n",
      " [78.05359618]\n",
      " [78.09123491]\n",
      " [78.06223965]\n",
      " [78.03635287]\n",
      " [78.00735761]\n",
      " [77.98147083]\n",
      " [77.94877747]\n",
      " [77.25870901]\n",
      " [75.77667067]\n",
      " [75.2025589 ]\n",
      " [74.22678632]\n",
      " [73.63795849]\n",
      " [74.04910025]\n",
      " [73.8138527 ]\n",
      " [69.14076071]\n",
      " [72.59651319]\n",
      " [72.28558903]\n",
      " [71.83537871]\n",
      " [71.39750563]\n",
      " [70.85719514]\n",
      " [69.19837886]\n",
      " [68.86818296]\n",
      " [69.79665272]\n",
      " [69.05676317]\n",
      " [68.73093082]\n",
      " [68.648479  ]\n",
      " [68.32455114]\n",
      " [68.0937546 ]\n",
      " [67.91951733]\n",
      " [67.73657503]\n",
      " [67.7639863 ]\n",
      " [66.47626274]\n",
      " [66.24051961]\n",
      " [65.95454237]\n",
      " [64.30856759]\n",
      " [65.93705722]\n",
      " [65.87439095]\n",
      " [65.9042714 ]\n",
      " [65.56774377]\n",
      " [65.40259652]\n",
      " [65.19178664]\n",
      " [65.10274477]\n",
      " [65.08017   ]\n",
      " [65.25846801]\n",
      " [62.00108043]\n",
      " [62.02446317]\n",
      " [65.63224214]\n",
      " [75.13755799]\n",
      " [74.73559536]\n",
      " [74.89846709]\n",
      " [72.66118042]\n",
      " [73.95209264]\n",
      " [73.84998077]\n",
      " [74.15642168]\n",
      " [69.78963625]\n",
      " [72.10690533]\n",
      " [72.1383944 ]\n",
      " [72.10364805]\n",
      " [71.97327222]\n",
      " [71.06826937]\n",
      " [70.94593   ]\n",
      " [67.57319242]\n",
      " [71.05050543]\n",
      " [70.27560595]\n",
      " [70.02933525]\n",
      " [67.81546346]\n",
      " [69.57433421]\n",
      " [69.18048141]\n",
      " [68.67539859]\n",
      " [68.62501694]\n",
      " [68.06069635]\n",
      " [67.66872364]\n",
      " [67.46148737]\n",
      " [67.13492026]\n",
      " [66.4943905 ]\n",
      " [66.22428042]\n",
      " [64.59980543]\n",
      " [65.69896525]\n",
      " [65.42535689]\n",
      " [62.07060471]\n",
      " [60.99645182]\n",
      " [62.19590568]\n",
      " [61.64674146]\n",
      " [61.87720244]\n",
      " [62.070795  ]\n",
      " [61.82828447]\n",
      " [61.7190457 ]\n",
      " [61.55367764]\n",
      " [61.31979552]\n",
      " [60.66804759]\n",
      " [60.50265954]\n",
      " [59.56355355]\n",
      " [59.5187501 ]\n",
      " [59.72842555]\n",
      " [59.45980575]\n",
      " [60.06787297]\n",
      " [64.27567477]\n",
      " [63.65946769]\n",
      " [62.60862214]\n",
      " [62.85597777]\n",
      " [61.36171963]\n",
      " [61.84883722]\n",
      " [60.92793979]\n",
      " [56.76426317]\n",
      " [60.0988503 ]\n",
      " [59.60475619]\n",
      " [59.20275923]\n",
      " [58.66505754]\n",
      " [58.29663375]\n",
      " [57.98792625]\n",
      " [57.76366807]\n",
      " [62.65738079]\n",
      " [62.41761463]\n",
      " [61.07273462]\n",
      " [60.09373141]\n",
      " [60.19953109]\n",
      " [59.1776468 ]\n",
      " [57.38208986]\n",
      " [57.7061995 ]\n",
      " [57.26076367]\n",
      " [53.47877674]\n",
      " [56.68044101]\n",
      " [56.59334988]\n",
      " [56.7430558 ]\n",
      " [57.56327437]\n",
      " [57.86232784]\n",
      " [58.3782407 ]]\n"
     ]
    }
   ],
   "source": [
    "lm=LinearRegression()\n",
    "lm.fit(x_train,y_train)\n",
    "\n",
    "#l=pd.DataFrame(dict(BMI=['29'],Polio=['99'],Diphtheria=['99'],GDP=['5491.16'],Incomecompositionofresources=['0.72'],Schooling=['13.3']))\n",
    "predict=lm.predict(x_test)\n",
    "predict1=predict*(max1[0]-min1[0])+min1[0]\n",
    "print(predict1)\n",
    "mse=mean_squared_error(y_test,predict)\n",
    "mse=mse*(max1[0]-min1[0])+min1[0]\n"
   ]
  },
  {
   "cell_type": "code",
   "execution_count": 39,
   "metadata": {},
   "outputs": [
    {
     "name": "stdout",
     "output_type": "stream",
     "text": [
      "Mean squared error: 36.92589710333968\n",
      "Root mean squared error: 6.076668256811431\n"
     ]
    }
   ],
   "source": [
    "print(\"Mean squared error:\",mse)\n",
    "print(\"Root mean squared error:\",np.sqrt(mse))\n"
   ]
  },
  {
   "cell_type": "code",
   "execution_count": null,
   "metadata": {},
   "outputs": [],
   "source": []
  },
  {
   "cell_type": "code",
   "execution_count": null,
   "metadata": {},
   "outputs": [],
   "source": []
  },
  {
   "cell_type": "code",
   "execution_count": null,
   "metadata": {},
   "outputs": [],
   "source": []
  },
  {
   "cell_type": "code",
   "execution_count": null,
   "metadata": {},
   "outputs": [],
   "source": []
  },
  {
   "cell_type": "code",
   "execution_count": null,
   "metadata": {},
   "outputs": [],
   "source": []
  }
 ],
 "metadata": {
  "kernelspec": {
   "display_name": "Python 3",
   "language": "python",
   "name": "python3"
  },
  "language_info": {
   "codemirror_mode": {
    "name": "ipython",
    "version": 3
   },
   "file_extension": ".py",
   "mimetype": "text/x-python",
   "name": "python",
   "nbconvert_exporter": "python",
   "pygments_lexer": "ipython3",
   "version": "3.6.5"
  }
 },
 "nbformat": 4,
 "nbformat_minor": 2
}
